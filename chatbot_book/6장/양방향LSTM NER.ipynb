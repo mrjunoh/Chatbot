{
 "cells": [
  {
   "attachments": {},
   "cell_type": "markdown",
   "metadata": {},
   "source": [
    "- 해당 모델은 단어 토큰을 입력했을 때 출력되는 NER 태그값을 예측하는 문제\n",
    "- 예) '삼성전자'를 입력했을 때 단체를 뜻하는 B_OG(organization)태그가 출력되도록 모델을 학습화면 됨"
   ]
  },
  {
   "cell_type": "code",
   "execution_count": 2,
   "metadata": {},
   "outputs": [],
   "source": [
    "import matplotlib.pyplot as plt\n",
    "import tensorflow as tf\n",
    "from tensorflow.keras import preprocessing\n",
    "from sklearn.model_selection import train_test_split\n",
    "import numpy as np"
   ]
  },
  {
   "cell_type": "code",
   "execution_count": 3,
   "metadata": {},
   "outputs": [],
   "source": [
    "#학습 파일 불러오기\n",
    "def read_file(file_name):\n",
    "    sents= []\n",
    "    with open(file_name, 'r', encoding='utf-8') as f:\n",
    "        lines = f.readlines()\n",
    "        for idx, l in enumerate(lines):\n",
    "            if l[0] == ';' and lines[idx + 1][0] == '$':\n",
    "                this_sent = []\n",
    "            elif l[0] == '$' and lines[idx - 1][0] == ';':\n",
    "                continue\n",
    "            elif l[0] == '\\n':\n",
    "                sents.append(this_sent)\n",
    "            else:\n",
    "                this_sent.append(tuple(l.split()))\n",
    "    return sents\n",
    "\n",
    "#학습 데이터 구조에 맞게 파일을 읽어와 문장 라인별로\n",
    "#토큰 번호, 단어 토큰, 품사 태그, bio 태그 정보를 불러옴"
   ]
  },
  {
   "cell_type": "code",
   "execution_count": 4,
   "metadata": {},
   "outputs": [],
   "source": [
    "#학습용 말뭉치 데이터 불러오기 - 1\n",
    "corpus = read_file('./KoreanNERCorpus-master/original/train.txt')"
   ]
  },
  {
   "cell_type": "code",
   "execution_count": 5,
   "metadata": {},
   "outputs": [
    {
     "name": "stdout",
     "output_type": "stream",
     "text": [
      "샘플크기 :\n",
      " 3555\n",
      "0번째 샘플 문장 시퀀스: \n",
      " ['한편', ',', 'AFC', '챔피언스', '리그', 'E', '조', '에', '속하', 'ㄴ', '포항', '역시', '대회', '8강', '진출', '이', '불투명', '하', '다', '.']\n",
      "0번째 bio 태그: \n",
      " ['O', 'O', 'O', 'O', 'O', 'B_OG', 'I', 'O', 'O', 'O', 'O', 'O', 'O', 'O', 'O', 'O', 'O', 'O', 'O', 'O']\n",
      "샘플 문장 시퀀스 최대 길이:  168\n",
      "샘플 문장 시퀀스 평균 길이: 34.03909985935302\n"
     ]
    }
   ],
   "source": [
    "#말뭉치 데이터에서 단어와 BIO 태그만 불러와 학습용 데이터셋 생성 - 2\n",
    "sentences, tags = [],[]\n",
    "for t in corpus:\n",
    "    tagged_sentence = []\n",
    "    sentence, bio_tag = [], []\n",
    "    for w in t:\n",
    "        tagged_sentence.append((w[1],w[3]))\n",
    "        sentence.append(w[1])\n",
    "        bio_tag.append(w[3])\n",
    "    sentences.append(sentence)\n",
    "    tags.append(bio_tag)\n",
    "print('샘플크기 :\\n', len(sentences))\n",
    "print('0번째 샘플 문장 시퀀스: \\n', sentences[0]) #단어 시퀀스\n",
    "print('0번째 bio 태그: \\n', tags[0]) #bio 태그 정보들이 tags에 저장됨\n",
    "print('샘플 문장 시퀀스 최대 길이: ', max(len(l) for l in sentences )) \n",
    "print('샘플 문장 시퀀스 평균 길이:', (sum(map(len, sentences)) / len(sentences)))\n",
    "\n",
    "#1에서 불러온 말뭉치 데이터에서 단어와 bio 태그만 이용해 학습용 데이터셋을 생성함\n",
    "#0번째 문장을 예시로 출력\n",
    "\n",
    "#0번째 원본 문장에서 분리된 단어 토큰들이 sentences리스트에 저장됨\n",
    "\n",
    "#sentences리스트와 tags 리스트의 크기는 동일함"
   ]
  },
  {
   "cell_type": "code",
   "execution_count": 6,
   "metadata": {},
   "outputs": [],
   "source": [
    "#토크나이저 정의 - 3\n",
    "sent_tokenizer = preprocessing.text.Tokenizer(oov_token='OOV')#첫 번째 인덱스에는 oov 사용\n",
    "sent_tokenizer.fit_on_texts(sentences)\n",
    "tag_tokenizer = preprocessing.text.Tokenizer(lower = False) # 태그 정보는 lower = False 소문자로 변환하지 않는다.\n",
    "tag_tokenizer.fit_on_texts(tags)\n",
    "\n",
    "#2에서 만들어진 단어 시퀀스와 태그 시퀀스를 사전으로 만들기 위해 토크나이저를 정의한 후 fit_on_texts() 함수 호출\n",
    "#oov는 out of vacabulary의 약자로 단어 사전에 포함되지 않는 단어를 의미함\n",
    "#단어 사전의 첫 번째 인덱스 토큰값으로 oov를 설정함 "
   ]
  },
  {
   "cell_type": "code",
   "execution_count": 7,
   "metadata": {},
   "outputs": [
    {
     "name": "stdout",
     "output_type": "stream",
     "text": [
      "bio 태그 사전 크기: 8\n",
      "단어 사전 크기: 13834\n"
     ]
    }
   ],
   "source": [
    "#단어 사전 및 태그 사전 크기 정의\n",
    "vocab_size = len(sent_tokenizer.word_index) + 1\n",
    "tag_size =len(tag_tokenizer.word_index) + 1\n",
    "print('bio 태그 사전 크기:', tag_size)\n",
    "print('단어 사전 크기:',vocab_size)"
   ]
  },
  {
   "cell_type": "code",
   "execution_count": 8,
   "metadata": {},
   "outputs": [
    {
     "name": "stdout",
     "output_type": "stream",
     "text": [
      "[183, 11, 4276, 884, 162, 931, 402, 10, 2608, 7, 1516, 608, 145, 1361, 414, 4, 6347, 2, 8, 3]\n",
      "[1, 1, 1, 1, 1, 3, 2, 1, 1, 1, 1, 1, 1, 1, 1, 1, 1, 1, 1, 1]\n"
     ]
    }
   ],
   "source": [
    "#학습용 단어 시퀀스 생성 - 4\n",
    "x_train = sent_tokenizer.texts_to_sequences(sentences)\n",
    "y_train = tag_tokenizer.texts_to_sequences(tags)\n",
    "print(x_train[0])\n",
    "print(y_train[0])\n",
    "\n",
    "#3에서 만들어진 사전 데이터를 시퀀스 번호 형태로 인코딩"
   ]
  },
  {
   "cell_type": "code",
   "execution_count": 9,
   "metadata": {},
   "outputs": [],
   "source": [
    "# index to word / index to NER 정의\n",
    "index_to_word = sent_tokenizer.index_word # 시퀀스 인덱스를 단어로 변환하기 위해 사용\n",
    "index_to_ner = tag_tokenizer.index_word # 시퀀스 인덱스를 NER로 변환하기 위해 사용\n",
    "index_to_ner[0] = 'PAD'"
   ]
  },
  {
   "cell_type": "code",
   "execution_count": 10,
   "metadata": {},
   "outputs": [],
   "source": [
    "# 시퀀스 패딩 처리 -5 \n",
    "max_len = 40\n",
    "x_train = preprocessing.sequence.pad_sequences(x_train, padding='post', maxlen=max_len)\n",
    "y_train = preprocessing.sequence.pad_sequences(y_train, padding='post', maxlen=max_len)\n",
    "\n",
    "#개체명 인식 모델의 입출력 벡터 크기를 동일하게 맞추기 위해 시퀀스 패딩 작업하기"
   ]
  },
  {
   "cell_type": "code",
   "execution_count": 11,
   "metadata": {},
   "outputs": [],
   "source": [
    "#학습 데이터와 테스트 데이터를 8:2 비율로 분리 - 6\n",
    "x_train, x_test, y_train, y_test = train_test_split(x_train, y_train, test_size=0.2, random_state=0)"
   ]
  },
  {
   "cell_type": "code",
   "execution_count": 12,
   "metadata": {},
   "outputs": [
    {
     "name": "stdout",
     "output_type": "stream",
     "text": [
      "학습 샘플 시퀀스 형상: (2844, 40)\n",
      "학습 샘플 레이블 형상: (2844, 40, 8)\n",
      "테스트 샘플 시퀀스 형상: (711, 40)\n",
      "테스트 샘플 레이블 형상: (711, 40, 8)\n"
     ]
    }
   ],
   "source": [
    "# 출력 데이터를 원핫 인코딩\n",
    "y_train = tf.keras.utils.to_categorical(y_train, num_classes= tag_size)\n",
    "y_test = tf.keras.utils.to_categorical(y_test, num_classes= tag_size)\n",
    "\n",
    "print('학습 샘플 시퀀스 형상:', x_train.shape)\n",
    "print('학습 샘플 레이블 형상:', y_train.shape)\n",
    "\n",
    "print('테스트 샘플 시퀀스 형상:', x_test.shape)\n",
    "print('테스트 샘플 레이블 형상:', y_test.shape)\n",
    "\n",
    "#학습과 테스트용 출력 데이터(y_train, t_test)를 태그 사전 크기에 맞게 원핫 인코딩 하기"
   ]
  },
  {
   "cell_type": "code",
   "execution_count": 13,
   "metadata": {},
   "outputs": [],
   "source": [
    "from tensorflow.keras.models import Sequential\n",
    "from tensorflow.keras.layers import LSTM, Embedding, Dense, TimeDistributed, Dropout, Bidirectional\n",
    "from tensorflow.keras.optimizers import Adam"
   ]
  },
  {
   "cell_type": "code",
   "execution_count": 19,
   "metadata": {},
   "outputs": [
    {
     "name": "stdout",
     "output_type": "stream",
     "text": [
      "Epoch 1/10\n",
      "23/23 [==============================] - 15s 413ms/step - loss: 0.6984 - accuracy: 0.8402\n",
      "Epoch 2/10\n",
      "23/23 [==============================] - 11s 468ms/step - loss: 0.3268 - accuracy: 0.8973\n",
      "Epoch 3/10\n",
      "23/23 [==============================] - 11s 473ms/step - loss: 0.2286 - accuracy: 0.9220\n",
      "Epoch 4/10\n",
      "23/23 [==============================] - 11s 499ms/step - loss: 0.1579 - accuracy: 0.9470\n",
      "Epoch 5/10\n",
      "23/23 [==============================] - 12s 522ms/step - loss: 0.1127 - accuracy: 0.9635\n",
      "Epoch 6/10\n",
      "23/23 [==============================] - 12s 535ms/step - loss: 0.0824 - accuracy: 0.9743\n",
      "Epoch 7/10\n",
      "23/23 [==============================] - 12s 532ms/step - loss: 0.0612 - accuracy: 0.9808\n",
      "Epoch 8/10\n",
      "23/23 [==============================] - 12s 537ms/step - loss: 0.0491 - accuracy: 0.9845\n",
      "Epoch 9/10\n",
      "23/23 [==============================] - 13s 552ms/step - loss: 0.0395 - accuracy: 0.9874\n",
      "Epoch 10/10\n",
      "23/23 [==============================] - 13s 560ms/step - loss: 0.0339 - accuracy: 0.9890\n"
     ]
    },
    {
     "data": {
      "text/plain": [
       "<keras.callbacks.History at 0x231c2ee47f0>"
      ]
     },
     "execution_count": 19,
     "metadata": {},
     "output_type": "execute_result"
    }
   ],
   "source": [
    "#모델 정의(Bi-LSTM) - 7\n",
    "model = Sequential()\n",
    "model.add(Embedding(input_dim=vocab_size, output_dim=30, input_length=max_len, mask_zero=True))\n",
    "model.add(Bidirectional(LSTM(200, return_sequences=True, dropout = 0.50, recurrent_dropout=0.25)))\n",
    "model.add(TimeDistributed(Dense(tag_size, activation='softmax')))\n",
    "model.compile(loss='categorical_crossentropy', optimizer=Adam(0.01), metrics=['accuracy'])\n",
    "model.fit(x_train, y_train, batch_size=128, epochs=10)\n",
    "\n",
    "#개체 인식 모델을 순차 모델 방식으로 구현함\n",
    "#tag_size만큼의 출력 뉴런에서 제일 확률 높은 출력값 1개를 선택하는 문제이기 때문에 softmax,categorical_crossentropy사용\n",
    "#"
   ]
  },
  {
   "cell_type": "code",
   "execution_count": 20,
   "metadata": {},
   "outputs": [
    {
     "name": "stdout",
     "output_type": "stream",
     "text": [
      "23/23 [==============================] - 3s 112ms/step - loss: 0.2815 - accuracy: 0.9365\n",
      "평과 결과: 0.9365341067314148\n"
     ]
    }
   ],
   "source": [
    "print('평과 결과:', model.evaluate(x_test, y_test)[1])"
   ]
  },
  {
   "attachments": {},
   "cell_type": "markdown",
   "metadata": {},
   "source": [
    "- 개체명 인식에 사용되는 성능 평가는 F1 스코어를 계산하는 방법을 사용해야함\n",
    "- F1 스코어를 계산하기 위해서는 정밀도와 재현율을 사용해야함\n",
    "    - 정확도(accuracy): 실제 정답과 얼마나 유사한지 나타냄\n",
    "    - 정밀도(precision): 정밀도가 높다고 해서 정확하다는 의미는 아님 정밀도가 높으면 결과값이 일정하게 분포되어 있는 것\n",
    "    - 재현율(recall): 실제 정답인 것들 중 예측 모델이 정답이라 예측한 것의 비율\n",
    "- F1 스코어란 정밀도와 재현율의 조화 평균을 의미함"
   ]
  },
  {
   "cell_type": "code",
   "execution_count": 24,
   "metadata": {},
   "outputs": [],
   "source": [
    "#시퀀스를 NER 태그로 변환\n",
    "def sequences_to_tag(sequences):\n",
    "    result=[]\n",
    "    for sequence in sequences:\n",
    "        temp =[]\n",
    "        for pred in sequence:\n",
    "            pred_index = np.argmax(pred)\n",
    "            temp.append(index_to_ner[pred_index].replace('PAD','O'))\n",
    "        result.append(temp)\n",
    "    return result"
   ]
  },
  {
   "cell_type": "code",
   "execution_count": 25,
   "metadata": {},
   "outputs": [
    {
     "name": "stdout",
     "output_type": "stream",
     "text": [
      "23/23 [==============================] - 2s 104ms/step\n"
     ]
    }
   ],
   "source": [
    "#테스트 데이터셋의 NER 예측 - 8\n",
    "y_predicted = model.predict(x_test) # 711,40 -> model -> 711,40,8\n",
    "pred_tags = sequences_to_tag(y_predicted) #실제 ner\n",
    "tets_tags = sequences_to_tag(y_test) #예측 ner"
   ]
  },
  {
   "cell_type": "code",
   "execution_count": 32,
   "metadata": {},
   "outputs": [
    {
     "name": "stderr",
     "output_type": "stream",
     "text": [
      "c:\\Users\\ETRI\\anaconda3\\envs\\virtual\\lib\\site-packages\\seqeval\\metrics\\sequence_labeling.py:171: UserWarning: B_DT seems not to be NE tag.\n",
      "  warnings.warn('{} seems not to be NE tag.'.format(chunk))\n",
      "c:\\Users\\ETRI\\anaconda3\\envs\\virtual\\lib\\site-packages\\seqeval\\metrics\\sequence_labeling.py:171: UserWarning: B_PS seems not to be NE tag.\n",
      "  warnings.warn('{} seems not to be NE tag.'.format(chunk))\n",
      "c:\\Users\\ETRI\\anaconda3\\envs\\virtual\\lib\\site-packages\\seqeval\\metrics\\sequence_labeling.py:171: UserWarning: B_OG seems not to be NE tag.\n",
      "  warnings.warn('{} seems not to be NE tag.'.format(chunk))\n",
      "c:\\Users\\ETRI\\anaconda3\\envs\\virtual\\lib\\site-packages\\seqeval\\metrics\\sequence_labeling.py:171: UserWarning: B_TI seems not to be NE tag.\n",
      "  warnings.warn('{} seems not to be NE tag.'.format(chunk))\n",
      "c:\\Users\\ETRI\\anaconda3\\envs\\virtual\\lib\\site-packages\\seqeval\\metrics\\sequence_labeling.py:171: UserWarning: B_LC seems not to be NE tag.\n",
      "  warnings.warn('{} seems not to be NE tag.'.format(chunk))\n"
     ]
    },
    {
     "name": "stdout",
     "output_type": "stream",
     "text": [
      "              precision    recall  f1-score   support\n",
      "\n",
      "           _       0.57      0.57      0.57       657\n",
      "         _DT       0.91      0.89      0.90       335\n",
      "         _LC       0.76      0.53      0.63       312\n",
      "         _OG       0.67      0.60      0.63       481\n",
      "         _PS       0.75      0.48      0.59       374\n",
      "         _TI       0.92      0.73      0.81        66\n",
      "\n",
      "   micro avg       0.70      0.61      0.65      2225\n",
      "   macro avg       0.76      0.63      0.69      2225\n",
      "weighted avg       0.71      0.61      0.65      2225\n",
      "\n",
      "f1-score: 65.3%\n"
     ]
    }
   ],
   "source": [
    "#f1 스코어 계산을 위해 사용\n",
    "from seqeval.metrics import f1_score, classification_report  \n",
    "print(classification_report(tets_tags, pred_tags))\n",
    "print('f1-score: {:.1%}'.format(f1_score(tets_tags, pred_tags)))\n",
    "\n",
    "#seqeval.metrics 모듈의 classification_report함수를 통해 ner 태그별로 계산된 정밀도와 재현율,f1 스코어를 출력함"
   ]
  },
  {
   "cell_type": "code",
   "execution_count": 37,
   "metadata": {},
   "outputs": [
    {
     "name": "stdout",
     "output_type": "stream",
     "text": [
      "새로운 유형 시퀀스: [531, 307, 1476, 286, 1507, 6766, 1]\n"
     ]
    }
   ],
   "source": [
    "#새로운 유형의 문장 ner 예측 - 9\n",
    "word_to_index = sent_tokenizer.word_index\n",
    "new_sentence='삼성전자 출시 스마트폰 오늘 애플 도전장 내밀다.'.split()\n",
    "new_x = []\n",
    "for w in new_sentence:\n",
    "    try:\n",
    "        new_x.append(word_to_index.get(w,1))\n",
    "    except KeyError:\n",
    "        #모르는 단어읭 경우 oov\n",
    "        new_x.append(word_to_index['OOV'])\n",
    "print('새로운 유형 시퀀스:', new_x)\n",
    "new_padded_seqs = preprocessing.sequence.pad_sequences([new_x], padding='post', value=0,maxlen=max_len)"
   ]
  },
  {
   "cell_type": "code",
   "execution_count": 39,
   "metadata": {},
   "outputs": [
    {
     "name": "stdout",
     "output_type": "stream",
     "text": [
      "1/1 [==============================] - 0s 32ms/step\n",
      "단어         예측된 ner\n",
      "--------------------------------------------------\n",
      "삼성전자       B_OG \n",
      "출시         O    \n",
      "스마트폰       O    \n",
      "오늘         B_DT \n",
      "애플         B_OG \n",
      "도전장        I    \n",
      "내밀다.       I    \n"
     ]
    }
   ],
   "source": [
    "#ner 예측\n",
    "p = model.predict(np.array([new_padded_seqs[0]]))\n",
    "p = np.argmax(p, axis=-1) # 예측된 ner 인덱스값 추출\n",
    " \n",
    "print('{:10} {:5}'.format('단어', '예측된 ner'))\n",
    "print('-'*50)\n",
    "for w, pred in zip(new_sentence, p[0]):\n",
    "    print('{:10} {:5}'.format(w, index_to_ner[pred]))\n",
    "    \n",
    "\n",
    "#삼성전자, 애플은 B_OG(조직)\n",
    "#오늘 B_DT(날짜)로 정확하게 판단\n",
    "#애플 뒤 도전장, 내밀다에는 O로 되어야하는데 I로 잘못 판단함 "
   ]
  },
  {
   "cell_type": "code",
   "execution_count": null,
   "metadata": {},
   "outputs": [],
   "source": []
  }
 ],
 "metadata": {
  "kernelspec": {
   "display_name": "virtual",
   "language": "python",
   "name": "python3"
  },
  "language_info": {
   "codemirror_mode": {
    "name": "ipython",
    "version": 3
   },
   "file_extension": ".py",
   "mimetype": "text/x-python",
   "name": "python",
   "nbconvert_exporter": "python",
   "pygments_lexer": "ipython3",
   "version": "3.8.16"
  },
  "orig_nbformat": 4,
  "vscode": {
   "interpreter": {
    "hash": "e464750dbb2f8340b2e9915e50c1e8c88c6015cc52b93a601b096fd1bd0da1cd"
   }
  }
 },
 "nbformat": 4,
 "nbformat_minor": 2
}
