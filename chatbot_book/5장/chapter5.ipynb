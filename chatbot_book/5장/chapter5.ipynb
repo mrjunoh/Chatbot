{
 "cells": [
  {
   "attachments": {},
   "cell_type": "markdown",
   "metadata": {},
   "source": [
    "# n-gram 유사도"
   ]
  },
  {
   "cell_type": "code",
   "execution_count": 3,
   "metadata": {},
   "outputs": [],
   "source": [
    "from konlpy.tag import Komoran\n",
    "\n",
    "# 어절 단위 n-gram\n",
    "def word_ngram(bow, num_gram):\n",
    "    text = tuple(bow)\n",
    "    ngrams = [text[x: x + num_gram] for x in range(0, len(text))] \n",
    "    return tuple(ngrams) \n",
    "#어절 단위로 n-gram 토큰을 추출해서 tuple형태로 저장함 슬라이싱을 이용해 n개씩 끊어서 토큰 저장\n",
    "\n",
    "#유사도 계산\n",
    "def similarity(doc1, doc2):\n",
    "    cnt =0\n",
    "    for token in doc1:\n",
    "        if token in doc2:\n",
    "            cnt +=1\n",
    "    return cnt/len(doc1)\n",
    "#doc1, doc2 토큰이 얼마나 동일한지 횟수를 카운트함\n",
    "\n",
    "#문장 정의\n",
    "sen1 ='6월에 뉴턴은 선생님의 제안으로 트리니티에 입학했다.'\n",
    "sen2 = '6월에 뉴턴은 선생님의 제안으로 대학교에 입학했다.'\n",
    "sen3 = '나는 맛있는 밥을 뉴턴 선생님과 함께 먹었다.'"
   ]
  },
  {
   "cell_type": "code",
   "execution_count": 4,
   "metadata": {},
   "outputs": [],
   "source": [
    "#형태소 분석기에서 명사(단어) 추출\n",
    "komoran = Komoran()\n",
    "\n",
    "bow1 = komoran.nouns(sen1)\n",
    "bow2 = komoran.nouns(sen2)\n",
    "bow3 = komoran.nouns(sen3)"
   ]
  },
  {
   "cell_type": "code",
   "execution_count": 5,
   "metadata": {},
   "outputs": [],
   "source": [
    "# 단어 n-gram 토큰 추출\n",
    "doc1 = word_ngram(bow1, 2) # 2-gram 방식으로 추출 n=2\n",
    "doc2 = word_ngram(bow2, 2)\n",
    "doc3 = word_ngram(bow3, 2)"
   ]
  },
  {
   "cell_type": "code",
   "execution_count": 8,
   "metadata": {},
   "outputs": [
    {
     "name": "stdout",
     "output_type": "stream",
     "text": [
      "(('6월', '뉴턴'), ('뉴턴', '선생님'), ('선생님', '제안'), ('제안', '트리니티'), ('트리니티', '입학'), ('입학',))\n",
      "(('6월', '뉴턴'), ('뉴턴', '선생님'), ('선생님', '제안'), ('제안', '대학교'), ('대학교', '입학'), ('입학',))\n",
      "(('밥', '뉴턴'), ('뉴턴', '선생'), ('선생', '님과 함께'), ('님과 함께',))\n"
     ]
    }
   ],
   "source": [
    "#추출된 n-gram 토큰 출력\n",
    "print(doc1)\n",
    "print(doc2)\n",
    "print(doc3)"
   ]
  },
  {
   "cell_type": "code",
   "execution_count": 9,
   "metadata": {},
   "outputs": [
    {
     "name": "stdout",
     "output_type": "stream",
     "text": [
      "0.6666666666666666\n",
      "0.0\n"
     ]
    }
   ],
   "source": [
    "# 유사도 계산\n",
    "r1 = similarity(doc1, doc2)\n",
    "r2= similarity(doc3, doc1)\n",
    "\n",
    "#계산된 유사도 출력\n",
    "print(r1)\n",
    "print(r2)"
   ]
  },
  {
   "attachments": {},
   "cell_type": "markdown",
   "metadata": {},
   "source": [
    "## 코사인 유사도 계산"
   ]
  },
  {
   "cell_type": "code",
   "execution_count": 10,
   "metadata": {},
   "outputs": [],
   "source": [
    "from konlpy.tag import Komoran\n",
    "import numpy as np\n",
    "from numpy import dot\n",
    "from numpy.linalg import norm\n",
    "\n",
    "#코사인 유사도 계산\n",
    "def cos_sim(vec1, vec2):\n",
    "    return dot(vec1, vec2) / (norm(vec1) * norm(vec2))\n",
    "\n",
    "#TDM 만들기\n",
    "def make_term_doc_mat(sentence_bow, word_dics):\n",
    "    freq_mat = {}\n",
    "    \n",
    "    for word in word_dics:\n",
    "        freq_mat[word]= 0\n",
    "    \n",
    "    for word in word_dics:\n",
    "        if word in sentence_bow:\n",
    "            freq_mat[word]+=1\n",
    "    return freq_mat\n",
    "#비교 문장에서 추출한 단어 사전을 기준으로 문장에 해당 단어들이 얼마나 포함되어 있는지\n",
    "#나타내는 단어 문서 행렬(tdm)을 만드는 함수\n",
    "\n",
    "#단어 벡터 만들기\n",
    "def make_vector(tdm):\n",
    "    vec =[]\n",
    "    for key in tdm:\n",
    "        vec.append(tdm[key])\n",
    "    return vec\n",
    "#단어 문서 행렬에서 표현된 토큰들의 출현 빈도 데이터를 벡터로 만들어주는 함수"
   ]
  },
  {
   "cell_type": "code",
   "execution_count": 16,
   "metadata": {},
   "outputs": [],
   "source": [
    "#문장 정의\n",
    "sen1 ='6월에 뉴턴은 선생님의 제안으로 트리니티에 입학했다.'\n",
    "sen2 = '6월에 뉴턴은 선생님의 제안으로 대학교에 입학했다.'\n",
    "sen3 = '나는 맛있는 밥을 뉴턴 선생님과 함께 먹었다.'"
   ]
  },
  {
   "cell_type": "code",
   "execution_count": 17,
   "metadata": {},
   "outputs": [],
   "source": [
    "#형태소 분석기에서 명사(단어) 묶음 리스트 생성\n",
    "komoran = Komoran()\n",
    "\n",
    "bow1 = komoran.nouns(sen1)\n",
    "bow2 = komoran.nouns(sen2)\n",
    "bow3 = komoran.nouns(sen3)"
   ]
  },
  {
   "cell_type": "code",
   "execution_count": 21,
   "metadata": {},
   "outputs": [],
   "source": [
    "#단어 묶음 리스트를 하나로 합침\n",
    "bow = bow1 + bow2 + bow3\n",
    "\n",
    "# 단어 묶음에서 중복을 제거해 단어 사전 구축\n",
    "word_dics =[]\n",
    "for token in bow:\n",
    "    if token not in word_dics:\n",
    "        word_dics.append(token)\n",
    "        "
   ]
  },
  {
   "cell_type": "code",
   "execution_count": 22,
   "metadata": {},
   "outputs": [
    {
     "name": "stdout",
     "output_type": "stream",
     "text": [
      "{'6월': 1, '뉴턴': 1, '선생님': 1, '제안': 1, '트리니티': 1, '입학': 1, '대학교': 0, '밥': 0, '선생': 0, '님과 함께': 0}\n",
      "{'6월': 1, '뉴턴': 1, '선생님': 1, '제안': 1, '트리니티': 0, '입학': 1, '대학교': 1, '밥': 0, '선생': 0, '님과 함께': 0}\n",
      "{'6월': 0, '뉴턴': 1, '선생님': 0, '제안': 0, '트리니티': 0, '입학': 0, '대학교': 0, '밥': 1, '선생': 1, '님과 함께': 1}\n"
     ]
    }
   ],
   "source": [
    "#문장별 단어 문서 행렬 계산\n",
    "freq_list1 = make_term_doc_mat(bow1, word_dics)\n",
    "freq_list2 = make_term_doc_mat(bow2, word_dics)\n",
    "freq_list3 = make_term_doc_mat(bow3, word_dics)\n",
    "print(freq_list1)\n",
    "print(freq_list2)\n",
    "print(freq_list3)"
   ]
  },
  {
   "cell_type": "code",
   "execution_count": 23,
   "metadata": {},
   "outputs": [
    {
     "name": "stdout",
     "output_type": "stream",
     "text": [
      "0.8333333333333335\n",
      "0.20412414523193154\n"
     ]
    }
   ],
   "source": [
    "#문장 벡터 생성\n",
    "doc1 = np.array(make_vector(freq_list1))\n",
    "doc2 = np.array(make_vector(freq_list2))\n",
    "doc3 = np.array(make_vector(freq_list3))\n",
    "\n",
    "#코사인 유사도 계산\n",
    "r1 = cos_sim(doc1, doc2)\n",
    "r2 = cos_sim(doc3, doc1)\n",
    "\n",
    "print(r1)\n",
    "print(r2)"
   ]
  },
  {
   "cell_type": "code",
   "execution_count": null,
   "metadata": {},
   "outputs": [],
   "source": []
  }
 ],
 "metadata": {
  "kernelspec": {
   "display_name": "Python 3",
   "language": "python",
   "name": "python3"
  },
  "language_info": {
   "codemirror_mode": {
    "name": "ipython",
    "version": 3
   },
   "file_extension": ".py",
   "mimetype": "text/x-python",
   "name": "python",
   "nbconvert_exporter": "python",
   "pygments_lexer": "ipython3",
   "version": "3.11.1"
  },
  "orig_nbformat": 4,
  "vscode": {
   "interpreter": {
    "hash": "a3278a805e5321cd8f38b6107a6ed0dbe03bcc4e7f61f4414bddfd4b241e95b4"
   }
  }
 },
 "nbformat": 4,
 "nbformat_minor": 2
}
